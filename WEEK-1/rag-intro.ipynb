{
 "cells": [
  {
   "cell_type": "code",
   "execution_count": 1,
   "id": "cad08853-81b9-4c30-8b86-c4e0c8a74d77",
   "metadata": {},
   "outputs": [
    {
     "name": "stdout",
     "output_type": "stream",
     "text": [
      "--2024-06-22 11:53:46--  https://raw.githubusercontent.com/DataTalksClub/llm-zoomcamp/main/01-intro/minsearch.py\n",
      "Resolving raw.githubusercontent.com (raw.githubusercontent.com)... 185.199.108.133, 185.199.109.133, 185.199.110.133, ...\n",
      "Connecting to raw.githubusercontent.com (raw.githubusercontent.com)|185.199.108.133|:443... connected.\n",
      "HTTP request sent, awaiting response... 200 OK\n",
      "Length: 3832 (3.7K) [text/plain]\n",
      "Saving to: ‘minsearch.py.2’\n",
      "\n",
      "minsearch.py.2      100%[===================>]   3.74K  --.-KB/s    in 0s      \n",
      "\n",
      "2024-06-22 11:53:46 (38.4 MB/s) - ‘minsearch.py.2’ saved [3832/3832]\n",
      "\n"
     ]
    }
   ],
   "source": [
    "!wget https://raw.githubusercontent.com/DataTalksClub/llm-zoomcamp/main/01-intro/minsearch.py"
   ]
  },
  {
   "cell_type": "code",
   "execution_count": 2,
   "id": "44ef063e-43b1-49cc-a4f6-9051f52ed422",
   "metadata": {},
   "outputs": [],
   "source": [
    "import minsearch"
   ]
  },
  {
   "cell_type": "code",
   "execution_count": 3,
   "id": "4976dedd-d883-4d04-945d-45f66cc62877",
   "metadata": {},
   "outputs": [],
   "source": [
    "import json"
   ]
  },
  {
   "cell_type": "code",
   "execution_count": 4,
   "id": "4dac5cd9-06ab-49e3-b5ae-4c39c031ce20",
   "metadata": {},
   "outputs": [],
   "source": [
    "with open ('documents.json','rt') as f_in:\n",
    "    docs_raw= json.load(f_in)"
   ]
  },
  {
   "cell_type": "code",
   "execution_count": 5,
   "id": "8735271f-79f0-4c87-acdc-71e6b3bb5c86",
   "metadata": {},
   "outputs": [],
   "source": [
    "documents= []\n",
    "\n",
    "for course_dict in docs_raw:\n",
    "    for doc in course_dict['documents']:\n",
    "        doc['course']=course_dict['course']\n",
    "        documents.append(doc)\n"
   ]
  },
  {
   "cell_type": "code",
   "execution_count": 6,
   "id": "3b40bac8-847c-48f3-a45e-d8c0e2c706a2",
   "metadata": {},
   "outputs": [
    {
     "data": {
      "text/plain": [
       "{'text': \"Anaconda3-2024.02-1-Windows-x86_64.exe\\nThe purpose of this document is to capture frequently asked technical questions\\nThe exact day and hour of the course will be 15th Jan 2024 at 17h00. The course will start with the first  “Office Hours'' live.1\\nSubscribe to course public Google Calendar (it works from Desktop only).\\nRegister before the course starts using this link.\\nJoin the course Telegram channel with announcements.\\nDon’t forget to register in DataTalks.Club's Slack and join the channel.\",\n",
       " 'section': 'General course-related questions',\n",
       " 'question': 'Course - When will the course start?',\n",
       " 'course': 'data-engineering-zoomcamp'}"
      ]
     },
     "execution_count": 6,
     "metadata": {},
     "output_type": "execute_result"
    }
   ],
   "source": [
    "documents[0]"
   ]
  },
  {
   "cell_type": "code",
   "execution_count": 7,
   "id": "d1728f99-ae31-4b2d-b55c-32decff7ace4",
   "metadata": {},
   "outputs": [],
   "source": [
    "index= minsearch.Index(\n",
    "    text_fields= [\"question\",\"text\",\"section\"],\n",
    "    keyword_fields=[\"course\"]\n",
    ")"
   ]
  },
  {
   "cell_type": "code",
   "execution_count": 8,
   "id": "1bb8ddac-174b-4df8-a4e1-7caa017ec028",
   "metadata": {},
   "outputs": [],
   "source": [
    "#select * where course= 'data-engineering-zoomcamp'"
   ]
  },
  {
   "cell_type": "code",
   "execution_count": 9,
   "id": "71a24528-aaf5-4411-961e-ec7ac876c88a",
   "metadata": {},
   "outputs": [],
   "source": [
    "q='the course has already started, can i still enroll?'"
   ]
  },
  {
   "cell_type": "code",
   "execution_count": 10,
   "id": "df39148d-49f3-412e-a94f-9f25462cd878",
   "metadata": {},
   "outputs": [
    {
     "data": {
      "text/plain": [
       "<minsearch.Index at 0x70cdae9e9ed0>"
      ]
     },
     "execution_count": 10,
     "metadata": {},
     "output_type": "execute_result"
    }
   ],
   "source": [
    "index.fit(documents)"
   ]
  },
  {
   "cell_type": "code",
   "execution_count": 11,
   "id": "6d6e4a07-1ef3-4cfb-96a1-96cf4de11257",
   "metadata": {},
   "outputs": [],
   "source": [
    "boost= {'question':3.0, 'section': 0.5}\n",
    "\n",
    "results= index.search(\n",
    "    query=q,\n",
    "    filter_dict={'course':'data-engineering-zoomcamp'},\n",
    "    boost_dict=boost,\n",
    "    num_results=5\n",
    ")"
   ]
  },
  {
   "cell_type": "code",
   "execution_count": 12,
   "id": "5828d236-0838-49fd-b693-0ae90c200f29",
   "metadata": {},
   "outputs": [
    {
     "data": {
      "text/plain": [
       "[{'text': \"Yes, even if you don't register, you're still eligible to submit the homeworks.\\nBe aware, however, that there will be deadlines for turning in the final projects. So don't leave everything for the last minute.\",\n",
       "  'section': 'General course-related questions',\n",
       "  'question': 'Course - Can I still join the course after the start date?',\n",
       "  'course': 'data-engineering-zoomcamp'},\n",
       " {'text': 'Yes, we will keep all the materials after the course finishes, so you can follow the course at your own pace after it finishes.\\nYou can also continue looking at the homeworks and continue preparing for the next cohort. I guess you can also start working on your final capstone project.',\n",
       "  'section': 'General course-related questions',\n",
       "  'question': 'Course - Can I follow the course after it finishes?',\n",
       "  'course': 'data-engineering-zoomcamp'},\n",
       " {'text': \"Anaconda3-2024.02-1-Windows-x86_64.exe\\nThe purpose of this document is to capture frequently asked technical questions\\nThe exact day and hour of the course will be 15th Jan 2024 at 17h00. The course will start with the first  “Office Hours'' live.1\\nSubscribe to course public Google Calendar (it works from Desktop only).\\nRegister before the course starts using this link.\\nJoin the course Telegram channel with announcements.\\nDon’t forget to register in DataTalks.Club's Slack and join the channel.\",\n",
       "  'section': 'General course-related questions',\n",
       "  'question': 'Course - When will the course start?',\n",
       "  'course': 'data-engineering-zoomcamp'},\n",
       " {'text': 'You can start by installing and setting up all the dependencies and requirements:\\nGoogle cloud account\\nGoogle Cloud SDK\\nPython 3 (installed with Anaconda)\\nTerraform\\nGit\\nLook over the prerequisites and syllabus to see if you are comfortable with these subjects.',\n",
       "  'section': 'General course-related questions',\n",
       "  'question': 'Course - What can I do before the course starts?',\n",
       "  'course': 'data-engineering-zoomcamp'},\n",
       " {'text': 'Yes, the slack channel remains open and you can ask questions there. But always sDocker containers exit code w search the channel first and second, check the FAQ (this document), most likely all your questions are already answered here.\\nYou can also tag the bot @ZoomcampQABot to help you conduct the search, but don’t rely on its answers 100%, it is pretty good though.',\n",
       "  'section': 'General course-related questions',\n",
       "  'question': 'Course - Can I get support if I take the course in the self-paced mode?',\n",
       "  'course': 'data-engineering-zoomcamp'}]"
      ]
     },
     "execution_count": 12,
     "metadata": {},
     "output_type": "execute_result"
    }
   ],
   "source": [
    "results"
   ]
  },
  {
   "cell_type": "code",
   "execution_count": 14,
   "id": "e8b39d86-c05e-46c4-92c6-c632afddd47b",
   "metadata": {},
   "outputs": [
    {
     "name": "stdout",
     "output_type": "stream",
     "text": [
      "That depends on the specific policy of the course or institution. Some courses may allow late enrollment, while others may not. I would recommend reaching out to the course instructor or the institution's administration to ask about their policy on late enrollment. They can provide you with the most accurate information.\n"
     ]
    }
   ],
   "source": [
    "from mistralai.client import MistralClient\n",
    "from mistralai.models.chat_completion import ChatMessage\n",
    "\n",
    "#api_key = os.environ[\"ZwArrgX9ZCMTcpruMKpEKS2jevNmrn5t\"]\n",
    "model = \"mistral-large-latest\"\n",
    "\n",
    "client = MistralClient(api_key=\"ZwArrgX9ZCMTcpruMKpEKS2jevNmrn5t\")\n",
    "\n",
    "messages = [\n",
    "    ChatMessage(role=\"user\", content=q)\n",
    "]\n",
    "\n",
    "# No streaming\n",
    "response = client.chat(\n",
    "    model=model,\n",
    "    messages=messages,\n",
    ")\n",
    "\n",
    "print(response.choices[0].message.content)"
   ]
  },
  {
   "cell_type": "code",
   "execution_count": 21,
   "id": "a2fc74b7-e0e1-4294-bd10-2f80e39c98bf",
   "metadata": {},
   "outputs": [],
   "source": [
    "prompt_template=\"\"\"\n",
    "You're a course teaching assistant. Answer the QUESTION based on the CONTEXT from the FAQ database.\n",
    "Use only the facts from the CONTEXT when answering the QUESTION.\n",
    "If the QUESTION doesn`t contain the answer, output NONE\n",
    "\n",
    "QUESTION: {question}\n",
    "CONTEXT: {context}\n",
    "\n",
    "\"\"\".strip()\n"
   ]
  },
  {
   "cell_type": "code",
   "execution_count": 22,
   "id": "4ab9cda1-4cf4-461a-881c-988094274ad8",
   "metadata": {},
   "outputs": [],
   "source": [
    "context= \"\"\n",
    "\n",
    "for doc in results:\n",
    "    context = context + f\"section: {doc['section']}\\nquestion:{doc['question']}\\nanswer:{doc['text']}\\n\\n\"\n",
    "    \n",
    "    \"\""
   ]
  },
  {
   "cell_type": "code",
   "execution_count": 25,
   "id": "9dee6c4a-0f7b-4078-80ff-837e2bf157e6",
   "metadata": {},
   "outputs": [],
   "source": [
    "prompt= prompt_template.format(question=q, context=context).strip()"
   ]
  },
  {
   "cell_type": "code",
   "execution_count": 26,
   "id": "481ea790-1094-4a48-987b-ab345ce5fe51",
   "metadata": {},
   "outputs": [
    {
     "name": "stdout",
     "output_type": "stream",
     "text": [
      "You're a course teaching assistant. Answer the QUESTION based on the CONTEXT from the FAQ database.\n",
      "Use only the facts from the CONTEXT when answering the QUESTION.\n",
      "If the QUESTION doesn`t contain the answer, output NONE\n",
      "\n",
      "QUESTION: the course has already started, can i still enroll?\n",
      "CONTEXT: section: General course-related questions\n",
      "question:Course - Can I still join the course after the start date?\n",
      "answer:Yes, even if you don't register, you're still eligible to submit the homeworks.\n",
      "Be aware, however, that there will be deadlines for turning in the final projects. So don't leave everything for the last minute.\n",
      "\n",
      "section: General course-related questions\n",
      "question:Course - Can I follow the course after it finishes?\n",
      "answer:Yes, we will keep all the materials after the course finishes, so you can follow the course at your own pace after it finishes.\n",
      "You can also continue looking at the homeworks and continue preparing for the next cohort. I guess you can also start working on your final capstone project.\n",
      "\n",
      "section: General course-related questions\n",
      "question:Course - When will the course start?\n",
      "answer:Anaconda3-2024.02-1-Windows-x86_64.exe\n",
      "The purpose of this document is to capture frequently asked technical questions\n",
      "The exact day and hour of the course will be 15th Jan 2024 at 17h00. The course will start with the first  “Office Hours'' live.1\n",
      "Subscribe to course public Google Calendar (it works from Desktop only).\n",
      "Register before the course starts using this link.\n",
      "Join the course Telegram channel with announcements.\n",
      "Don’t forget to register in DataTalks.Club's Slack and join the channel.\n",
      "\n",
      "section: General course-related questions\n",
      "question:Course - What can I do before the course starts?\n",
      "answer:You can start by installing and setting up all the dependencies and requirements:\n",
      "Google cloud account\n",
      "Google Cloud SDK\n",
      "Python 3 (installed with Anaconda)\n",
      "Terraform\n",
      "Git\n",
      "Look over the prerequisites and syllabus to see if you are comfortable with these subjects.\n",
      "\n",
      "section: General course-related questions\n",
      "question:Course - Can I get support if I take the course in the self-paced mode?\n",
      "answer:Yes, the slack channel remains open and you can ask questions there. But always sDocker containers exit code w search the channel first and second, check the FAQ (this document), most likely all your questions are already answered here.\n",
      "You can also tag the bot @ZoomcampQABot to help you conduct the search, but don’t rely on its answers 100%, it is pretty good though.\n"
     ]
    }
   ],
   "source": [
    "print(prompt)"
   ]
  },
  {
   "cell_type": "code",
   "execution_count": 27,
   "id": "6ecf8c61-3855-4e31-94d7-d7e3f3bbe5ec",
   "metadata": {},
   "outputs": [
    {
     "name": "stdout",
     "output_type": "stream",
     "text": [
      "Yes, you can still enroll in the course even if it has already started. You're eligible to submit homeworks, but be aware of the deadlines for turning in the final projects.\n"
     ]
    }
   ],
   "source": [
    "messages = [\n",
    "    ChatMessage(role=\"user\", content=prompt)\n",
    "]\n",
    "\n",
    "# No streaming\n",
    "response = client.chat(\n",
    "    model=model,\n",
    "    messages=messages,\n",
    ")\n",
    "\n",
    "print(response.choices[0].message.content)"
   ]
  },
  {
   "cell_type": "code",
   "execution_count": 69,
   "id": "0126d0a1-227e-4f20-ba71-52fd54450707",
   "metadata": {},
   "outputs": [],
   "source": [
    "def search (query):\n",
    "    boost= {'question':3.0, 'section': 0.5}\n",
    "\n",
    "    results= index.search(\n",
    "      query=query,\n",
    "      filter_dict={'course':'data-engineering-zoomcamp'},\n",
    "      boost_dict=boost,\n",
    "      num_results=10)\n",
    "    return results\n",
    "\n"
   ]
  },
  {
   "cell_type": "code",
   "execution_count": 72,
   "id": "1615afdf-3bae-40ee-8fd1-4d3dfa87feeb",
   "metadata": {},
   "outputs": [],
   "source": [
    "query=\"how do i run kafka\"\n",
    "search_results= search(query)"
   ]
  },
  {
   "cell_type": "code",
   "execution_count": 73,
   "id": "ceb44cfd-1aa1-4014-aea7-c7b22d6294be",
   "metadata": {},
   "outputs": [],
   "source": [
    "def build_prompt(query, search_results):\n",
    "    prompt_template=\"\"\"\n",
    "You're a course teaching assistant. Answer the QUESTION based on the CONTEXT from the FAQ database.\n",
    "Use only the facts from the CONTEXT when answering the QUESTION.\n",
    "If the QUESTION doesn`t contain the answer, output 'NONE'\n",
    "\n",
    "QUESTION: {question}\n",
    "CONTEXT: {context}\n",
    "\n",
    "\"\"\".strip()\n",
    "    \n",
    "    context= \"\"\n",
    "\n",
    "    for doc in search_results:\n",
    "        context = context + f\"section: {doc['section']}\\nquestion:{doc['question']}\\nanswer:{doc['text']}\\n\\n\"\n",
    "     \n",
    "\n",
    "    prompt= prompt_template.format(question=query, context=context).strip()\n",
    "    return prompt\n"
   ]
  },
  {
   "cell_type": "code",
   "execution_count": 74,
   "id": "80dbd576-8490-4912-a47a-f482faf2218b",
   "metadata": {},
   "outputs": [],
   "source": [
    "def llm(prompt):\n",
    "    messages = [ChatMessage(role=\"user\", content=prompt)]\n",
    "\n",
    "    response = client.chat(\n",
    "       model=model,\n",
    "       messages=messages)\n",
    "\n",
    "    return response.choices[0].message.content\n",
    "    "
   ]
  },
  {
   "cell_type": "code",
   "execution_count": 76,
   "id": "22191c72-5492-4dc1-b037-a7aa76918016",
   "metadata": {},
   "outputs": [],
   "source": [
    "query=\"how do i run kafka\"\n",
    "\n",
    "def rag(query):\n",
    "    search_results= search(query)\n",
    "    prompt= build_prompt(query,search_results)\n",
    "    answer= llm(prompt)\n",
    "    return answer\n"
   ]
  },
  {
   "cell_type": "raw",
   "id": "9e792585-cd33-4107-8261-a50ee7c0ca8e",
   "metadata": {},
   "source": [
    "rag(query)"
   ]
  },
  {
   "cell_type": "code",
   "execution_count": 78,
   "id": "774567e8-e636-45c6-8621-4ecadf8cc13b",
   "metadata": {},
   "outputs": [
    {
     "data": {
      "text/plain": [
       "\"To submit your homework, you need to follow these steps:\\n\\n1. Right click and download the pipeline itself to your local machine. This will give you metadata, pycache, and other files.\\n2. Download each .py/.sql file that corresponds to each block you created for the pipeline. These files can be found under 'data loaders', 'data transformers', and 'data exporters' in your local src folder.\\n3. Move the downloaded files to your GitHub repo folder.\\n4. Commit your changes to the GitHub repository.\\n\\nThe homework URL in the homework link is your repository on GitHub, GitLab, Bitbucket, etc., or any other location where you have your code and where a reasonable person would look at it and think that you have gone through the week and exercises.\""
      ]
     },
     "execution_count": 78,
     "metadata": {},
     "output_type": "execute_result"
    }
   ],
   "source": [
    "rag('how can i submit homework?')"
   ]
  },
  {
   "cell_type": "code",
   "execution_count": null,
   "id": "39bdd420-0907-4a55-b104-255e189a313c",
   "metadata": {},
   "outputs": [],
   "source": []
  }
 ],
 "metadata": {
  "kernelspec": {
   "display_name": "Python 3 (ipykernel)",
   "language": "python",
   "name": "python3"
  },
  "language_info": {
   "codemirror_mode": {
    "name": "ipython",
    "version": 3
   },
   "file_extension": ".py",
   "mimetype": "text/x-python",
   "name": "python",
   "nbconvert_exporter": "python",
   "pygments_lexer": "ipython3",
   "version": "3.10.13"
  }
 },
 "nbformat": 4,
 "nbformat_minor": 5
}
