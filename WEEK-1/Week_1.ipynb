{
 "cells": [
  {
   "cell_type": "code",
   "execution_count": null,
   "id": "a12c7dab-78e1-4e1e-9c84-36f729787034",
   "metadata": {},
   "outputs": [],
   "source": [
    "KEY=ZwArrgX9ZCMTcpruMKpEKS2jevNmrn5t"
   ]
  },
  {
   "cell_type": "code",
   "execution_count": 2,
   "id": "9d0e151e-224d-46be-a138-79f5b7fbc5c4",
   "metadata": {},
   "outputs": [],
   "source": [
    "import os"
   ]
  },
  {
   "cell_type": "code",
   "execution_count": 3,
   "id": "831497cf-22e0-4f08-a19b-87f38e069937",
   "metadata": {},
   "outputs": [
    {
     "name": "stdout",
     "output_type": "stream",
     "text": [
      "Requirement already satisfied: mistralai in /usr/local/python/3.10.13/lib/python3.10/site-packages (0.4.0)\n",
      "Requirement already satisfied: httpx<0.26,>=0.25 in /usr/local/python/3.10.13/lib/python3.10/site-packages (from mistralai) (0.25.2)\n",
      "Requirement already satisfied: orjson<3.11,>=3.9.10 in /usr/local/python/3.10.13/lib/python3.10/site-packages (from mistralai) (3.10.5)\n",
      "Requirement already satisfied: pydantic<3.0.0,>=2.5.2 in /usr/local/python/3.10.13/lib/python3.10/site-packages (from mistralai) (2.7.4)\n",
      "Requirement already satisfied: anyio in /home/codespace/.local/lib/python3.10/site-packages (from httpx<0.26,>=0.25->mistralai) (4.4.0)\n",
      "Requirement already satisfied: certifi in /home/codespace/.local/lib/python3.10/site-packages (from httpx<0.26,>=0.25->mistralai) (2024.2.2)\n",
      "Requirement already satisfied: httpcore==1.* in /home/codespace/.local/lib/python3.10/site-packages (from httpx<0.26,>=0.25->mistralai) (1.0.5)\n",
      "Requirement already satisfied: idna in /home/codespace/.local/lib/python3.10/site-packages (from httpx<0.26,>=0.25->mistralai) (3.7)\n",
      "Requirement already satisfied: sniffio in /home/codespace/.local/lib/python3.10/site-packages (from httpx<0.26,>=0.25->mistralai) (1.3.1)\n",
      "Requirement already satisfied: h11<0.15,>=0.13 in /home/codespace/.local/lib/python3.10/site-packages (from httpcore==1.*->httpx<0.26,>=0.25->mistralai) (0.14.0)\n",
      "Requirement already satisfied: annotated-types>=0.4.0 in /usr/local/python/3.10.13/lib/python3.10/site-packages (from pydantic<3.0.0,>=2.5.2->mistralai) (0.7.0)\n",
      "Requirement already satisfied: pydantic-core==2.18.4 in /usr/local/python/3.10.13/lib/python3.10/site-packages (from pydantic<3.0.0,>=2.5.2->mistralai) (2.18.4)\n",
      "Requirement already satisfied: typing-extensions>=4.6.1 in /home/codespace/.local/lib/python3.10/site-packages (from pydantic<3.0.0,>=2.5.2->mistralai) (4.12.0)\n",
      "Requirement already satisfied: exceptiongroup>=1.0.2 in /home/codespace/.local/lib/python3.10/site-packages (from anyio->httpx<0.26,>=0.25->mistralai) (1.2.1)\n",
      "Note: you may need to restart the kernel to use updated packages.\n"
     ]
    }
   ],
   "source": [
    "pip install mistralai\n"
   ]
  },
  {
   "cell_type": "code",
   "execution_count": 5,
   "id": "756c5bc7-e824-4fc4-8a01-c9c4b8e77d44",
   "metadata": {},
   "outputs": [
    {
     "name": "stdout",
     "output_type": "stream",
     "text": [
      "It depends on the specific course and its start date, enrollment deadlines, and policies. Some courses may allow late enrollment, while others do not. I would recommend reaching out to the course provider or instructor to inquire about the possibility of joining the course at this time.\n"
     ]
    }
   ],
   "source": [
    "from mistralai.client import MistralClient\n",
    "from mistralai.models.chat_completion import ChatMessage\n",
    "\n",
    "#api_key = os.environ[\"ZwArrgX9ZCMTcpruMKpEKS2jevNmrn5t\"]\n",
    "model = \"mistral-large-latest\"\n",
    "\n",
    "client = MistralClient(api_key=\"ZwArrgX9ZCMTcpruMKpEKS2jevNmrn5t\")\n",
    "\n",
    "messages = [\n",
    "    ChatMessage(role=\"user\", content=\"Is it too late to join the course?\")\n",
    "]\n",
    "\n",
    "# No streaming\n",
    "chat_response = client.chat(\n",
    "    model=model,\n",
    "    messages=messages,\n",
    ")\n",
    "\n",
    "print(chat_response.choices[0].message.content)"
   ]
  },
  {
   "cell_type": "code",
   "execution_count": null,
   "id": "dcbe4dcc-dd71-4b3c-8a72-58f6fa950fd8",
   "metadata": {},
   "outputs": [],
   "source": []
  }
 ],
 "metadata": {
  "kernelspec": {
   "display_name": "Python 3 (ipykernel)",
   "language": "python",
   "name": "python3"
  },
  "language_info": {
   "codemirror_mode": {
    "name": "ipython",
    "version": 3
   },
   "file_extension": ".py",
   "mimetype": "text/x-python",
   "name": "python",
   "nbconvert_exporter": "python",
   "pygments_lexer": "ipython3",
   "version": "3.10.13"
  }
 },
 "nbformat": 4,
 "nbformat_minor": 5
}
